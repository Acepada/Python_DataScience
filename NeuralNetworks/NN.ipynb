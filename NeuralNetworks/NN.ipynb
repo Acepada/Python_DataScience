{
 "cells": [
  {
   "cell_type": "code",
   "execution_count": 5,
   "metadata": {},
   "outputs": [],
   "source": [
    "import numpy as np\n",
    "import tensorflow as tf\n",
    "import keras\n"
   ]
  },
  {
   "cell_type": "code",
   "execution_count": 6,
   "metadata": {},
   "outputs": [],
   "source": [
    "from keras.models import Sequential\n",
    "from keras.layers import Dense"
   ]
  },
  {
   "cell_type": "code",
   "execution_count": 7,
   "metadata": {},
   "outputs": [],
   "source": [
    "np.random.seed(42)\n",
    "X=np.random.rand(100,10)#100 samples, 10 features\n",
    "y=np.random.randint(2,size=100) #Binary Labels 0 or 1"
   ]
  },
  {
   "cell_type": "code",
   "execution_count": 9,
   "metadata": {},
   "outputs": [
    {
     "name": "stdout",
     "output_type": "stream",
     "text": [
      "Epoch 1/10\n",
      "WARNING:tensorflow:From c:\\Users\\Adem\\anaconda3\\Lib\\site-packages\\keras\\src\\utils\\tf_utils.py:492: The name tf.ragged.RaggedTensorValue is deprecated. Please use tf.compat.v1.ragged.RaggedTensorValue instead.\n",
      "\n",
      "WARNING:tensorflow:From c:\\Users\\Adem\\anaconda3\\Lib\\site-packages\\keras\\src\\engine\\base_layer_utils.py:384: The name tf.executing_eagerly_outside_functions is deprecated. Please use tf.compat.v1.executing_eagerly_outside_functions instead.\n",
      "\n",
      "4/4 [==============================] - 0s 3ms/step - loss: 0.7486 - accuracy: 0.5200\n",
      "Epoch 2/10\n",
      "4/4 [==============================] - 0s 1ms/step - loss: 0.7383 - accuracy: 0.5200\n",
      "Epoch 3/10\n",
      "4/4 [==============================] - 0s 1000us/step - loss: 0.7291 - accuracy: 0.5200\n",
      "Epoch 4/10\n",
      "4/4 [==============================] - 0s 1000us/step - loss: 0.7227 - accuracy: 0.5200\n",
      "Epoch 5/10\n",
      "4/4 [==============================] - 0s 1ms/step - loss: 0.7169 - accuracy: 0.5200\n",
      "Epoch 6/10\n",
      "4/4 [==============================] - 0s 1ms/step - loss: 0.7145 - accuracy: 0.5200\n",
      "Epoch 7/10\n",
      "4/4 [==============================] - 0s 1ms/step - loss: 0.7107 - accuracy: 0.5000\n",
      "Epoch 8/10\n",
      "4/4 [==============================] - 0s 833us/step - loss: 0.7075 - accuracy: 0.5000\n",
      "Epoch 9/10\n",
      "4/4 [==============================] - 0s 1ms/step - loss: 0.7054 - accuracy: 0.4900\n",
      "Epoch 10/10\n",
      "4/4 [==============================] - 0s 1ms/step - loss: 0.7041 - accuracy: 0.4900\n"
     ]
    },
    {
     "data": {
      "text/plain": [
       "<keras.src.callbacks.History at 0x2bf5cfc13d0>"
      ]
     },
     "execution_count": 9,
     "metadata": {},
     "output_type": "execute_result"
    }
   ],
   "source": [
    "#Create an MLP Model\n",
    "model = Sequential()\n",
    "model.add(Dense(32, activation='relu', input_dim=10)) #Hidden Layer with 32 Neurons and RELU Activation Function\n",
    "model.add(Dense(1, activation='sigmoid', input_dim=10)) #Output Layer with 1 Neurons and Sigmoid Activation Function\n",
    "\n",
    "#Compile the model\n",
    "model.compile(optimizer='adam', loss=\"binary_crossentropy\", metrics=['accuracy'])\n",
    "model.fit(X, y, epochs=10, batch_size=32)"
   ]
  },
  {
   "cell_type": "code",
   "execution_count": null,
   "metadata": {},
   "outputs": [],
   "source": []
  }
 ],
 "metadata": {
  "kernelspec": {
   "display_name": "base",
   "language": "python",
   "name": "python3"
  },
  "language_info": {
   "codemirror_mode": {
    "name": "ipython",
    "version": 3
   },
   "file_extension": ".py",
   "mimetype": "text/x-python",
   "name": "python",
   "nbconvert_exporter": "python",
   "pygments_lexer": "ipython3",
   "version": "3.11.5"
  }
 },
 "nbformat": 4,
 "nbformat_minor": 2
}
