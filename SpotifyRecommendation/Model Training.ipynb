{
 "cells": [
  {
   "cell_type": "code",
   "execution_count": 191,
   "metadata": {},
   "outputs": [],
   "source": [
    "import numpy as np\n",
    "import pandas as pd"
   ]
  },
  {
   "cell_type": "code",
   "execution_count": 192,
   "metadata": {},
   "outputs": [],
   "source": [
    "df = pd.read_csv('spotify_millsongdata.csv')"
   ]
  },
  {
   "cell_type": "code",
   "execution_count": 193,
   "metadata": {},
   "outputs": [
    {
     "data": {
      "text/html": [
       "<div>\n",
       "<style scoped>\n",
       "    .dataframe tbody tr th:only-of-type {\n",
       "        vertical-align: middle;\n",
       "    }\n",
       "\n",
       "    .dataframe tbody tr th {\n",
       "        vertical-align: top;\n",
       "    }\n",
       "\n",
       "    .dataframe thead th {\n",
       "        text-align: right;\n",
       "    }\n",
       "</style>\n",
       "<table border=\"1\" class=\"dataframe\">\n",
       "  <thead>\n",
       "    <tr style=\"text-align: right;\">\n",
       "      <th></th>\n",
       "      <th>artist</th>\n",
       "      <th>song</th>\n",
       "      <th>link</th>\n",
       "      <th>text</th>\n",
       "    </tr>\n",
       "  </thead>\n",
       "  <tbody>\n",
       "    <tr>\n",
       "      <th>0</th>\n",
       "      <td>ABBA</td>\n",
       "      <td>Ahe's My Kind Of Girl</td>\n",
       "      <td>/a/abba/ahes+my+kind+of+girl_20598417.html</td>\n",
       "      <td>Look at her face, it's a wonderful face  \\r\\nA...</td>\n",
       "    </tr>\n",
       "    <tr>\n",
       "      <th>1</th>\n",
       "      <td>ABBA</td>\n",
       "      <td>Andante, Andante</td>\n",
       "      <td>/a/abba/andante+andante_20002708.html</td>\n",
       "      <td>Take it easy with me, please  \\r\\nTouch me gen...</td>\n",
       "    </tr>\n",
       "    <tr>\n",
       "      <th>2</th>\n",
       "      <td>ABBA</td>\n",
       "      <td>As Good As New</td>\n",
       "      <td>/a/abba/as+good+as+new_20003033.html</td>\n",
       "      <td>I'll never know why I had to go  \\r\\nWhy I had...</td>\n",
       "    </tr>\n",
       "    <tr>\n",
       "      <th>3</th>\n",
       "      <td>ABBA</td>\n",
       "      <td>Bang</td>\n",
       "      <td>/a/abba/bang_20598415.html</td>\n",
       "      <td>Making somebody happy is a question of give an...</td>\n",
       "    </tr>\n",
       "    <tr>\n",
       "      <th>4</th>\n",
       "      <td>ABBA</td>\n",
       "      <td>Bang-A-Boomerang</td>\n",
       "      <td>/a/abba/bang+a+boomerang_20002668.html</td>\n",
       "      <td>Making somebody happy is a question of give an...</td>\n",
       "    </tr>\n",
       "    <tr>\n",
       "      <th>5</th>\n",
       "      <td>ABBA</td>\n",
       "      <td>Burning My Bridges</td>\n",
       "      <td>/a/abba/burning+my+bridges_20003011.html</td>\n",
       "      <td>Well, you hoot and you holler and you make me ...</td>\n",
       "    </tr>\n",
       "    <tr>\n",
       "      <th>6</th>\n",
       "      <td>ABBA</td>\n",
       "      <td>Cassandra</td>\n",
       "      <td>/a/abba/cassandra_20002811.html</td>\n",
       "      <td>Down in the street they're all singing and sho...</td>\n",
       "    </tr>\n",
       "    <tr>\n",
       "      <th>7</th>\n",
       "      <td>ABBA</td>\n",
       "      <td>Chiquitita</td>\n",
       "      <td>/a/abba/chiquitita_20002978.html</td>\n",
       "      <td>Chiquitita, tell me what's wrong  \\r\\nYou're e...</td>\n",
       "    </tr>\n",
       "    <tr>\n",
       "      <th>8</th>\n",
       "      <td>ABBA</td>\n",
       "      <td>Crazy World</td>\n",
       "      <td>/a/abba/crazy+world_20003013.html</td>\n",
       "      <td>I was out with the morning sun  \\r\\nCouldn't s...</td>\n",
       "    </tr>\n",
       "    <tr>\n",
       "      <th>9</th>\n",
       "      <td>ABBA</td>\n",
       "      <td>Crying Over You</td>\n",
       "      <td>/a/abba/crying+over+you_20177611.html</td>\n",
       "      <td>I'm waitin' for you baby  \\r\\nI'm sitting all ...</td>\n",
       "    </tr>\n",
       "  </tbody>\n",
       "</table>\n",
       "</div>"
      ],
      "text/plain": [
       "  artist                   song                                        link  \\\n",
       "0   ABBA  Ahe's My Kind Of Girl  /a/abba/ahes+my+kind+of+girl_20598417.html   \n",
       "1   ABBA       Andante, Andante       /a/abba/andante+andante_20002708.html   \n",
       "2   ABBA         As Good As New        /a/abba/as+good+as+new_20003033.html   \n",
       "3   ABBA                   Bang                  /a/abba/bang_20598415.html   \n",
       "4   ABBA       Bang-A-Boomerang      /a/abba/bang+a+boomerang_20002668.html   \n",
       "5   ABBA     Burning My Bridges    /a/abba/burning+my+bridges_20003011.html   \n",
       "6   ABBA              Cassandra             /a/abba/cassandra_20002811.html   \n",
       "7   ABBA             Chiquitita            /a/abba/chiquitita_20002978.html   \n",
       "8   ABBA            Crazy World           /a/abba/crazy+world_20003013.html   \n",
       "9   ABBA        Crying Over You       /a/abba/crying+over+you_20177611.html   \n",
       "\n",
       "                                                text  \n",
       "0  Look at her face, it's a wonderful face  \\r\\nA...  \n",
       "1  Take it easy with me, please  \\r\\nTouch me gen...  \n",
       "2  I'll never know why I had to go  \\r\\nWhy I had...  \n",
       "3  Making somebody happy is a question of give an...  \n",
       "4  Making somebody happy is a question of give an...  \n",
       "5  Well, you hoot and you holler and you make me ...  \n",
       "6  Down in the street they're all singing and sho...  \n",
       "7  Chiquitita, tell me what's wrong  \\r\\nYou're e...  \n",
       "8  I was out with the morning sun  \\r\\nCouldn't s...  \n",
       "9  I'm waitin' for you baby  \\r\\nI'm sitting all ...  "
      ]
     },
     "execution_count": 193,
     "metadata": {},
     "output_type": "execute_result"
    }
   ],
   "source": [
    "df.head(10)"
   ]
  },
  {
   "cell_type": "code",
   "execution_count": 194,
   "metadata": {},
   "outputs": [
    {
     "data": {
      "text/html": [
       "<div>\n",
       "<style scoped>\n",
       "    .dataframe tbody tr th:only-of-type {\n",
       "        vertical-align: middle;\n",
       "    }\n",
       "\n",
       "    .dataframe tbody tr th {\n",
       "        vertical-align: top;\n",
       "    }\n",
       "\n",
       "    .dataframe thead th {\n",
       "        text-align: right;\n",
       "    }\n",
       "</style>\n",
       "<table border=\"1\" class=\"dataframe\">\n",
       "  <thead>\n",
       "    <tr style=\"text-align: right;\">\n",
       "      <th></th>\n",
       "      <th>artist</th>\n",
       "      <th>song</th>\n",
       "      <th>link</th>\n",
       "      <th>text</th>\n",
       "    </tr>\n",
       "  </thead>\n",
       "  <tbody>\n",
       "    <tr>\n",
       "      <th>57640</th>\n",
       "      <td>Zebrahead</td>\n",
       "      <td>The Setup</td>\n",
       "      <td>/z/zebrahead/the+setup_10198494.html</td>\n",
       "      <td>Lie to me  \\r\\nTell me that everything will be...</td>\n",
       "    </tr>\n",
       "    <tr>\n",
       "      <th>57641</th>\n",
       "      <td>Ziggy Marley</td>\n",
       "      <td>Freedom Road</td>\n",
       "      <td>/z/ziggy+marley/freedom+road_20531174.html</td>\n",
       "      <td>That's why I'm marching, yes, I'm marching,  \\...</td>\n",
       "    </tr>\n",
       "    <tr>\n",
       "      <th>57642</th>\n",
       "      <td>Ziggy Marley</td>\n",
       "      <td>Friend</td>\n",
       "      <td>/z/ziggy+marley/friend_20673508.html</td>\n",
       "      <td>[Chorus]  \\r\\nI wanna thank you for the things...</td>\n",
       "    </tr>\n",
       "    <tr>\n",
       "      <th>57643</th>\n",
       "      <td>Ziggy Marley</td>\n",
       "      <td>G7</td>\n",
       "      <td>/z/ziggy+marley/g7_20531173.html</td>\n",
       "      <td>Seven richest countries in the world  \\r\\nThem...</td>\n",
       "    </tr>\n",
       "    <tr>\n",
       "      <th>57644</th>\n",
       "      <td>Ziggy Marley</td>\n",
       "      <td>Generation</td>\n",
       "      <td>/z/ziggy+marley/generation_20531171.html</td>\n",
       "      <td>Many generation have passed away  \\r\\nFighting...</td>\n",
       "    </tr>\n",
       "    <tr>\n",
       "      <th>57645</th>\n",
       "      <td>Ziggy Marley</td>\n",
       "      <td>Good Old Days</td>\n",
       "      <td>/z/ziggy+marley/good+old+days_10198588.html</td>\n",
       "      <td>Irie days come on play  \\r\\nLet the angels fly...</td>\n",
       "    </tr>\n",
       "    <tr>\n",
       "      <th>57646</th>\n",
       "      <td>Ziggy Marley</td>\n",
       "      <td>Hand To Mouth</td>\n",
       "      <td>/z/ziggy+marley/hand+to+mouth_20531167.html</td>\n",
       "      <td>Power to the workers  \\r\\nMore power  \\r\\nPowe...</td>\n",
       "    </tr>\n",
       "    <tr>\n",
       "      <th>57647</th>\n",
       "      <td>Zwan</td>\n",
       "      <td>Come With Me</td>\n",
       "      <td>/z/zwan/come+with+me_20148981.html</td>\n",
       "      <td>all you need  \\r\\nis something i'll believe  \\...</td>\n",
       "    </tr>\n",
       "    <tr>\n",
       "      <th>57648</th>\n",
       "      <td>Zwan</td>\n",
       "      <td>Desire</td>\n",
       "      <td>/z/zwan/desire_20148986.html</td>\n",
       "      <td>northern star  \\r\\nam i frightened  \\r\\nwhere ...</td>\n",
       "    </tr>\n",
       "    <tr>\n",
       "      <th>57649</th>\n",
       "      <td>Zwan</td>\n",
       "      <td>Heartsong</td>\n",
       "      <td>/z/zwan/heartsong_20148991.html</td>\n",
       "      <td>come in  \\r\\nmake yourself at home  \\r\\ni'm a ...</td>\n",
       "    </tr>\n",
       "  </tbody>\n",
       "</table>\n",
       "</div>"
      ],
      "text/plain": [
       "             artist           song  \\\n",
       "57640     Zebrahead      The Setup   \n",
       "57641  Ziggy Marley   Freedom Road   \n",
       "57642  Ziggy Marley         Friend   \n",
       "57643  Ziggy Marley             G7   \n",
       "57644  Ziggy Marley     Generation   \n",
       "57645  Ziggy Marley  Good Old Days   \n",
       "57646  Ziggy Marley  Hand To Mouth   \n",
       "57647          Zwan   Come With Me   \n",
       "57648          Zwan         Desire   \n",
       "57649          Zwan      Heartsong   \n",
       "\n",
       "                                              link  \\\n",
       "57640         /z/zebrahead/the+setup_10198494.html   \n",
       "57641   /z/ziggy+marley/freedom+road_20531174.html   \n",
       "57642         /z/ziggy+marley/friend_20673508.html   \n",
       "57643             /z/ziggy+marley/g7_20531173.html   \n",
       "57644     /z/ziggy+marley/generation_20531171.html   \n",
       "57645  /z/ziggy+marley/good+old+days_10198588.html   \n",
       "57646  /z/ziggy+marley/hand+to+mouth_20531167.html   \n",
       "57647           /z/zwan/come+with+me_20148981.html   \n",
       "57648                 /z/zwan/desire_20148986.html   \n",
       "57649              /z/zwan/heartsong_20148991.html   \n",
       "\n",
       "                                                    text  \n",
       "57640  Lie to me  \\r\\nTell me that everything will be...  \n",
       "57641  That's why I'm marching, yes, I'm marching,  \\...  \n",
       "57642  [Chorus]  \\r\\nI wanna thank you for the things...  \n",
       "57643  Seven richest countries in the world  \\r\\nThem...  \n",
       "57644  Many generation have passed away  \\r\\nFighting...  \n",
       "57645  Irie days come on play  \\r\\nLet the angels fly...  \n",
       "57646  Power to the workers  \\r\\nMore power  \\r\\nPowe...  \n",
       "57647  all you need  \\r\\nis something i'll believe  \\...  \n",
       "57648  northern star  \\r\\nam i frightened  \\r\\nwhere ...  \n",
       "57649  come in  \\r\\nmake yourself at home  \\r\\ni'm a ...  "
      ]
     },
     "execution_count": 194,
     "metadata": {},
     "output_type": "execute_result"
    }
   ],
   "source": [
    "df.tail(10)"
   ]
  },
  {
   "cell_type": "code",
   "execution_count": 195,
   "metadata": {},
   "outputs": [
    {
     "data": {
      "text/plain": [
       "(57650, 4)"
      ]
     },
     "execution_count": 195,
     "metadata": {},
     "output_type": "execute_result"
    }
   ],
   "source": [
    "df.shape"
   ]
  },
  {
   "cell_type": "code",
   "execution_count": 196,
   "metadata": {},
   "outputs": [
    {
     "data": {
      "text/plain": [
       "artist    0\n",
       "song      0\n",
       "link      0\n",
       "text      0\n",
       "dtype: int64"
      ]
     },
     "execution_count": 196,
     "metadata": {},
     "output_type": "execute_result"
    }
   ],
   "source": [
    "df.isnull().sum()"
   ]
  },
  {
   "cell_type": "code",
   "execution_count": 197,
   "metadata": {},
   "outputs": [],
   "source": [
    "df = df.sample(5000).drop('link', axis=1).reset_index(drop=True)"
   ]
  },
  {
   "cell_type": "code",
   "execution_count": 198,
   "metadata": {},
   "outputs": [
    {
     "data": {
      "text/html": [
       "<div>\n",
       "<style scoped>\n",
       "    .dataframe tbody tr th:only-of-type {\n",
       "        vertical-align: middle;\n",
       "    }\n",
       "\n",
       "    .dataframe tbody tr th {\n",
       "        vertical-align: top;\n",
       "    }\n",
       "\n",
       "    .dataframe thead th {\n",
       "        text-align: right;\n",
       "    }\n",
       "</style>\n",
       "<table border=\"1\" class=\"dataframe\">\n",
       "  <thead>\n",
       "    <tr style=\"text-align: right;\">\n",
       "      <th></th>\n",
       "      <th>artist</th>\n",
       "      <th>song</th>\n",
       "      <th>text</th>\n",
       "    </tr>\n",
       "  </thead>\n",
       "  <tbody>\n",
       "    <tr>\n",
       "      <th>0</th>\n",
       "      <td>Chris Brown</td>\n",
       "      <td>Mama</td>\n",
       "      <td>This one right here...  \\r\\nGoes out to my mam...</td>\n",
       "    </tr>\n",
       "    <tr>\n",
       "      <th>1</th>\n",
       "      <td>Steve Miller Band</td>\n",
       "      <td>Jungle Love</td>\n",
       "      <td>I met you on somebody's island  \\r\\nYou though...</td>\n",
       "    </tr>\n",
       "    <tr>\n",
       "      <th>2</th>\n",
       "      <td>Green Day</td>\n",
       "      <td>Desensitized</td>\n",
       "      <td>Clenching my teeth tight  \\r\\nMy head is like ...</td>\n",
       "    </tr>\n",
       "    <tr>\n",
       "      <th>3</th>\n",
       "      <td>Enigma</td>\n",
       "      <td>Sadeness (part 1)</td>\n",
       "      <td>Sade dit moi  \\r\\nSade donne moi  \\r\\nSade dit...</td>\n",
       "    </tr>\n",
       "    <tr>\n",
       "      <th>4</th>\n",
       "      <td>Cliff Richard</td>\n",
       "      <td>Can't Take The Hurt Anymore</td>\n",
       "      <td>Now that the past has ended  \\r\\nMy life's an ...</td>\n",
       "    </tr>\n",
       "    <tr>\n",
       "      <th>5</th>\n",
       "      <td>King Crimson</td>\n",
       "      <td>Walking On Air</td>\n",
       "      <td>Close your eyes and look at me  \\r\\nI'll be st...</td>\n",
       "    </tr>\n",
       "    <tr>\n",
       "      <th>6</th>\n",
       "      <td>Nitty Gritty Dirt Band</td>\n",
       "      <td>Telluride</td>\n",
       "      <td>Now the girls in telluride do it like this  \\r...</td>\n",
       "    </tr>\n",
       "    <tr>\n",
       "      <th>7</th>\n",
       "      <td>Europe</td>\n",
       "      <td>Hero</td>\n",
       "      <td>It's not like I wouldn't dream  \\r\\nIf you had...</td>\n",
       "    </tr>\n",
       "    <tr>\n",
       "      <th>8</th>\n",
       "      <td>Gloria Estefan</td>\n",
       "      <td>The Way You Look Tonight</td>\n",
       "      <td>Some day, when I'm awfully low  \\r\\nWhen the w...</td>\n",
       "    </tr>\n",
       "    <tr>\n",
       "      <th>9</th>\n",
       "      <td>One Direction</td>\n",
       "      <td>Heroes</td>\n",
       "      <td>I, I will be king  \\r\\nAnd you, you will be qu...</td>\n",
       "    </tr>\n",
       "  </tbody>\n",
       "</table>\n",
       "</div>"
      ],
      "text/plain": [
       "                   artist                         song  \\\n",
       "0             Chris Brown                         Mama   \n",
       "1       Steve Miller Band                  Jungle Love   \n",
       "2               Green Day                 Desensitized   \n",
       "3                  Enigma            Sadeness (part 1)   \n",
       "4           Cliff Richard  Can't Take The Hurt Anymore   \n",
       "5            King Crimson               Walking On Air   \n",
       "6  Nitty Gritty Dirt Band                    Telluride   \n",
       "7                  Europe                         Hero   \n",
       "8          Gloria Estefan     The Way You Look Tonight   \n",
       "9           One Direction                       Heroes   \n",
       "\n",
       "                                                text  \n",
       "0  This one right here...  \\r\\nGoes out to my mam...  \n",
       "1  I met you on somebody's island  \\r\\nYou though...  \n",
       "2  Clenching my teeth tight  \\r\\nMy head is like ...  \n",
       "3  Sade dit moi  \\r\\nSade donne moi  \\r\\nSade dit...  \n",
       "4  Now that the past has ended  \\r\\nMy life's an ...  \n",
       "5  Close your eyes and look at me  \\r\\nI'll be st...  \n",
       "6  Now the girls in telluride do it like this  \\r...  \n",
       "7  It's not like I wouldn't dream  \\r\\nIf you had...  \n",
       "8  Some day, when I'm awfully low  \\r\\nWhen the w...  \n",
       "9  I, I will be king  \\r\\nAnd you, you will be qu...  "
      ]
     },
     "execution_count": 198,
     "metadata": {},
     "output_type": "execute_result"
    }
   ],
   "source": [
    "df.head(10)"
   ]
  },
  {
   "cell_type": "code",
   "execution_count": 199,
   "metadata": {},
   "outputs": [
    {
     "data": {
      "text/plain": [
       "'This one right here...  \\r\\nGoes out to my mama,  \\r\\n(This Goes out to mama)  \\r\\nYour momma,  \\r\\nAnd everybody momma (haha)  \\r\\nHere we go... listen listen  \\r\\n  \\r\\n[Verse 1]  \\r\\nI remember Saturday mornin\\'s  \\r\\nMe wakin\\' up to momma in the kitchen cookin\\' to Sam Cook and  \\r\\nI was just a young dude, watchin\\' mornin\\' cartoons, waitin\\' for momma to braid\\r\\nmy hair  \\r\\nI used to hate to get it done, cause she\\'d braid it too tight  \\r\\nMy momma always gave a style she knew I would like, and then  \\r\\nI would go outside and play, she\\'d sit on the front porch  \\r\\nWhile me and Rob played ball  \\r\\n  \\r\\n[Bridge]  \\r\\nMomma always did little things like that  \\r\\nMomma always will know I love her for that  \\r\\nFor all the things that you used to do...  \\r\\nMomma I dedicate this one to you  \\r\\n  \\r\\n[Chorus]  \\r\\nIt\\'s straight from the heart  \\r\\nThis is your song  \\r\\nYou\\'re my lucky charm so you already know,  \\r\\nThat Ima sing this one for you, so let me sing this one for you  \\r\\nFrom every tour, every show  \\r\\nYou\\'re my lucky charm, go wherever I go  \\r\\nMomma Ima sing this one to you, momma let me sing this one to you  \\r\\n  \\r\\n[Verse 2]  \\r\\nShe\\'s like the mother of Tappahannock, VA  \\r\\nEverybody knew miss Joyce, where we stayed  \\r\\nAll heads said she was cool, nothing\\' that she wouldn\\'t do  \\r\\nBut about CB, she was know to act a fool (whoawhoa)  \\r\\nWith the little money that she made  \\r\\nShe took the bed and made it all okay  \\r\\nNight at the daycare, when we had to stay there  \\r\\nAlways held it down, so I gotta thank you now  \\r\\n  \\r\\n[Bridge]  \\r\\nMomma always did little things like that (oh)  \\r\\nMomma always will know (aye) I love her for that  \\r\\nFor all the things that you used to do...  \\r\\nMomma I dedicate this one to you  \\r\\n  \\r\\nSing with the song of Chris Brown, Mama lyrics!  \\r\\n  \\r\\n[Chorus]  \\r\\nIt\\'s straight from the heart  \\r\\nThis is your song  \\r\\nYou\\'re my lucky charm so (so you already know) you already know,  \\r\\nThat Ima sing this one for you, so let me sing this one for you  \\r\\nFrom every tour (from every tour o yea yea), every show  \\r\\nYou\\'re my lucky charm (you\\'re my lucky charm),go wherever I go  \\r\\nMomma Ima sing this (Ima sing it) one to you, (Just let me sing it)  \\r\\nMomma let me sing (whoa yea) this one to you  \\r\\n  \\r\\n[Verse 3]  \\r\\n(oo\\'oo)  \\r\\nMomma I thank you for all you\\'ve done (oo\\'oo)  \\r\\nI thank God everyday I\\'m your son (oh)  \\r\\n(You gave) You gave me everything that I need  \\r\\nBut lovin\\' me unconditionally...  \\r\\nEverybody say... \"M-O-M-M-A\"  \\r\\nEverybody say... momma  \\r\\n\"M-O-M-M-A\"  \\r\\nYou know that this is your song  \\r\\n  \\r\\n[Chorus]  \\r\\nIt\\'s straight from the heart (oh momma)  \\r\\nThis is your song (aye)  \\r\\nYou\\'re my lucky charm so you already know, (you already know)  \\r\\nThat Ima sing this one for you, so let me sing this one for you  \\r\\nFrom every tour (aye), every show (momma I love you so)  \\r\\nYou\\'re my lucky charm, go wherever I go (wherever I go)  \\r\\nMomma Ima sing this one to you (yeah),  \\r\\nMomma let me sing this one to you  \\r\\n  \\r\\n[Interlude]  \\r\\nThis right here goes out to every mama all over the world  \\r\\nMama I know I might be bad at times (mama Ima sing this one to you)  \\r\\nI might get on your nerves, but I still love you (mama let me sign this one to\\r\\nyou)  \\r\\nYou always gon be my mama  \\r\\nMaaama, mama, my... mama  \\r\\n  \\r\\nMama Ima sing this (ooh hoo) one to you  \\r\\nMama let me sing this (ooh hoo) one to you  \\r\\nMama... I love ya  \\r\\nDon\\'t put nothin\\' above ya  \\r\\n(save this one for you)  \\r\\nI\\'ll save this one for you\\r\\n\\r\\n'"
      ]
     },
     "execution_count": 199,
     "metadata": {},
     "output_type": "execute_result"
    }
   ],
   "source": [
    "df['text'][0]"
   ]
  },
  {
   "cell_type": "markdown",
   "metadata": {},
   "source": [
    "# Text Cleaning / Text Preprocessing"
   ]
  },
  {
   "cell_type": "code",
   "execution_count": 200,
   "metadata": {},
   "outputs": [],
   "source": [
    "df['text'] = df['text'].str.lower().replace(r'^\\w\\s', '').replace(r'\\n', ' ', regex = True)"
   ]
  },
  {
   "cell_type": "code",
   "execution_count": 201,
   "metadata": {},
   "outputs": [
    {
     "data": {
      "text/html": [
       "<div>\n",
       "<style scoped>\n",
       "    .dataframe tbody tr th:only-of-type {\n",
       "        vertical-align: middle;\n",
       "    }\n",
       "\n",
       "    .dataframe tbody tr th {\n",
       "        vertical-align: top;\n",
       "    }\n",
       "\n",
       "    .dataframe thead th {\n",
       "        text-align: right;\n",
       "    }\n",
       "</style>\n",
       "<table border=\"1\" class=\"dataframe\">\n",
       "  <thead>\n",
       "    <tr style=\"text-align: right;\">\n",
       "      <th></th>\n",
       "      <th>artist</th>\n",
       "      <th>song</th>\n",
       "      <th>text</th>\n",
       "    </tr>\n",
       "  </thead>\n",
       "  <tbody>\n",
       "    <tr>\n",
       "      <th>0</th>\n",
       "      <td>Chris Brown</td>\n",
       "      <td>Mama</td>\n",
       "      <td>this one right here...  \\r goes out to my mama...</td>\n",
       "    </tr>\n",
       "    <tr>\n",
       "      <th>1</th>\n",
       "      <td>Steve Miller Band</td>\n",
       "      <td>Jungle Love</td>\n",
       "      <td>i met you on somebody's island  \\r you thought...</td>\n",
       "    </tr>\n",
       "    <tr>\n",
       "      <th>2</th>\n",
       "      <td>Green Day</td>\n",
       "      <td>Desensitized</td>\n",
       "      <td>clenching my teeth tight  \\r my head is like a...</td>\n",
       "    </tr>\n",
       "    <tr>\n",
       "      <th>3</th>\n",
       "      <td>Enigma</td>\n",
       "      <td>Sadeness (part 1)</td>\n",
       "      <td>sade dit moi  \\r sade donne moi  \\r sade dit m...</td>\n",
       "    </tr>\n",
       "    <tr>\n",
       "      <th>4</th>\n",
       "      <td>Cliff Richard</td>\n",
       "      <td>Can't Take The Hurt Anymore</td>\n",
       "      <td>now that the past has ended  \\r my life's an o...</td>\n",
       "    </tr>\n",
       "    <tr>\n",
       "      <th>...</th>\n",
       "      <td>...</td>\n",
       "      <td>...</td>\n",
       "      <td>...</td>\n",
       "    </tr>\n",
       "    <tr>\n",
       "      <th>4995</th>\n",
       "      <td>Flo-Rida</td>\n",
       "      <td>Troublemaker</td>\n",
       "      <td>you're a troublemaker  \\r you're a troublemake...</td>\n",
       "    </tr>\n",
       "    <tr>\n",
       "      <th>4996</th>\n",
       "      <td>Tom Waits</td>\n",
       "      <td>Kiss Me</td>\n",
       "      <td>the fire's dying out  \\r all the embers have b...</td>\n",
       "    </tr>\n",
       "    <tr>\n",
       "      <th>4997</th>\n",
       "      <td>Tom Jones</td>\n",
       "      <td>Untrue</td>\n",
       "      <td>untrue, unfaithful  \\r that was you  \\r every ...</td>\n",
       "    </tr>\n",
       "    <tr>\n",
       "      <th>4998</th>\n",
       "      <td>Engelbert Humperdinck</td>\n",
       "      <td>Two Different Worlds</td>\n",
       "      <td>two different worlds  \\r we live in two differ...</td>\n",
       "    </tr>\n",
       "    <tr>\n",
       "      <th>4999</th>\n",
       "      <td>Kelly Clarkson</td>\n",
       "      <td>Up To The Mountains</td>\n",
       "      <td>i went up to the mountains  \\r because you ask...</td>\n",
       "    </tr>\n",
       "  </tbody>\n",
       "</table>\n",
       "<p>5000 rows × 3 columns</p>\n",
       "</div>"
      ],
      "text/plain": [
       "                     artist                         song  \\\n",
       "0               Chris Brown                         Mama   \n",
       "1         Steve Miller Band                  Jungle Love   \n",
       "2                 Green Day                 Desensitized   \n",
       "3                    Enigma            Sadeness (part 1)   \n",
       "4             Cliff Richard  Can't Take The Hurt Anymore   \n",
       "...                     ...                          ...   \n",
       "4995               Flo-Rida                 Troublemaker   \n",
       "4996              Tom Waits                      Kiss Me   \n",
       "4997              Tom Jones                       Untrue   \n",
       "4998  Engelbert Humperdinck         Two Different Worlds   \n",
       "4999         Kelly Clarkson          Up To The Mountains   \n",
       "\n",
       "                                                   text  \n",
       "0     this one right here...  \\r goes out to my mama...  \n",
       "1     i met you on somebody's island  \\r you thought...  \n",
       "2     clenching my teeth tight  \\r my head is like a...  \n",
       "3     sade dit moi  \\r sade donne moi  \\r sade dit m...  \n",
       "4     now that the past has ended  \\r my life's an o...  \n",
       "...                                                 ...  \n",
       "4995  you're a troublemaker  \\r you're a troublemake...  \n",
       "4996  the fire's dying out  \\r all the embers have b...  \n",
       "4997  untrue, unfaithful  \\r that was you  \\r every ...  \n",
       "4998  two different worlds  \\r we live in two differ...  \n",
       "4999  i went up to the mountains  \\r because you ask...  \n",
       "\n",
       "[5000 rows x 3 columns]"
      ]
     },
     "execution_count": 201,
     "metadata": {},
     "output_type": "execute_result"
    }
   ],
   "source": [
    "df"
   ]
  },
  {
   "cell_type": "markdown",
   "metadata": {},
   "source": [
    "# Now do the tokenization"
   ]
  },
  {
   "cell_type": "code",
   "execution_count": 202,
   "metadata": {},
   "outputs": [],
   "source": [
    "import nltk\n",
    "from nltk.stem.porter import PorterStemmer"
   ]
  },
  {
   "cell_type": "code",
   "execution_count": 203,
   "metadata": {},
   "outputs": [
    {
     "name": "stderr",
     "output_type": "stream",
     "text": [
      "[nltk_data] Downloading package punkt to\n",
      "[nltk_data]     C:\\Users\\Adem\\AppData\\Roaming\\nltk_data...\n",
      "[nltk_data]   Package punkt is already up-to-date!\n"
     ]
    }
   ],
   "source": [
    "nltk.download('punkt')\n",
    "stemmer = PorterStemmer()"
   ]
  },
  {
   "cell_type": "code",
   "execution_count": 204,
   "metadata": {},
   "outputs": [],
   "source": [
    "#Tokenize the txt\n",
    "def token(txt):\n",
    "    token = nltk.word_tokenize(txt)\n",
    "    a = [stemmer.stem(w) for w in token]\n",
    "    return \" \".join(a)"
   ]
  },
  {
   "cell_type": "code",
   "execution_count": 205,
   "metadata": {},
   "outputs": [
    {
     "data": {
      "text/plain": [
       "'you are beauti , beauti'"
      ]
     },
     "execution_count": 205,
     "metadata": {},
     "output_type": "execute_result"
    }
   ],
   "source": [
    "token(\"You are beautiful, beauty\")"
   ]
  },
  {
   "cell_type": "code",
   "execution_count": 206,
   "metadata": {},
   "outputs": [
    {
     "data": {
      "text/plain": [
       "0       thi one right here ... goe out to my mama , ( ...\n",
       "1       i met you on somebodi 's island you thought yo...\n",
       "2       clench my teeth tight my head is like a spong ...\n",
       "3       sade dit moi sade donn moi sade dit moi qu'est...\n",
       "4       now that the past ha end my life 's an open do...\n",
       "                              ...                        \n",
       "4995    you 're a troublemak you 're a troublemak you ...\n",
       "4996    the fire 's die out all the ember have been sp...\n",
       "4997    untru , unfaith that wa you everi other day th...\n",
       "4998    two differ world we live in two differ world f...\n",
       "4999    i went up to the mountain becaus you ask me to...\n",
       "Name: text, Length: 5000, dtype: object"
      ]
     },
     "execution_count": 206,
     "metadata": {},
     "output_type": "execute_result"
    }
   ],
   "source": [
    "df['text'].apply(lambda x: token(x))"
   ]
  },
  {
   "cell_type": "markdown",
   "metadata": {},
   "source": [
    "# Initialize the TFID Vectorizer"
   ]
  },
  {
   "cell_type": "code",
   "execution_count": 207,
   "metadata": {},
   "outputs": [],
   "source": [
    "from sklearn.feature_extraction.text import TfidfVectorizer\n",
    "from sklearn.metrics.pairwise import cosine_similarity"
   ]
  },
  {
   "cell_type": "code",
   "execution_count": 208,
   "metadata": {},
   "outputs": [],
   "source": [
    "tfid = TfidfVectorizer(analyzer='word', stop_words='english')"
   ]
  },
  {
   "cell_type": "code",
   "execution_count": 209,
   "metadata": {},
   "outputs": [],
   "source": [
    "matrix = tfid.fit_transform(df['text'])"
   ]
  },
  {
   "cell_type": "code",
   "execution_count": 210,
   "metadata": {},
   "outputs": [],
   "source": [
    "similar = cosine_similarity(matrix)"
   ]
  },
  {
   "cell_type": "code",
   "execution_count": 211,
   "metadata": {},
   "outputs": [
    {
     "data": {
      "text/plain": [
       "array([1.        , 0.00939876, 0.00279895, ..., 0.01020124, 0.00576846,\n",
       "       0.0099282 ])"
      ]
     },
     "execution_count": 211,
     "metadata": {},
     "output_type": "execute_result"
    }
   ],
   "source": [
    "similar[0]"
   ]
  },
  {
   "cell_type": "code",
   "execution_count": 213,
   "metadata": {},
   "outputs": [
    {
     "data": {
      "text/plain": [
       "1"
      ]
     },
     "execution_count": 213,
     "metadata": {},
     "output_type": "execute_result"
    }
   ],
   "source": [
    "#Give the ID of the Song with that Song Name\n",
    "df[df['song']=='Jungle Love'].index[0]"
   ]
  },
  {
   "cell_type": "markdown",
   "metadata": {},
   "source": [
    "# Implement the Recommender Function"
   ]
  },
  {
   "cell_type": "code",
   "execution_count": 216,
   "metadata": {},
   "outputs": [],
   "source": [
    "def recommender(song_name):\n",
    "    idx = df[df['song']==song_name].index[0]\n",
    "    distanceCosine = sorted(list(enumerate(similar[idx])), reverse=True, key = lambda x:x[1])\n",
    "    song = []\n",
    "    #Append the first 20 recommended Songs\n",
    "    for s_id in distanceCosine[1:21]:\n",
    "        song.append(df.iloc[s_id[0]].song)\n",
    "    return song"
   ]
  },
  {
   "cell_type": "code",
   "execution_count": 217,
   "metadata": {},
   "outputs": [
    {
     "data": {
      "text/plain": [
       "['Jungle Fever',\n",
       " 'Jungle Man',\n",
       " 'The Streets Are Like A Jungle',\n",
       " \"Truck Drivin' Song\",\n",
       " 'Crazy',\n",
       " 'Crazy',\n",
       " 'Crazy',\n",
       " 'Mad Dog',\n",
       " 'Crazy',\n",
       " 'Making Me Crazy',\n",
       " 'A Crazy World Like This',\n",
       " 'Crazy Love, Vol II',\n",
       " \"The Rhythm Of The Pourin' Rain\",\n",
       " 'Half Crazy',\n",
       " 'Mad About The Boy',\n",
       " 'How Deep Is Your Love?',\n",
       " 'Out Of Sight, Out Of Mind',\n",
       " 'Crazy In Love',\n",
       " 'Crazy Mixed Up World',\n",
       " \"Don't Let Me Be Misunderstood\"]"
      ]
     },
     "execution_count": 217,
     "metadata": {},
     "output_type": "execute_result"
    }
   ],
   "source": [
    "recommender(\"Jungle Love\")"
   ]
  },
  {
   "cell_type": "code",
   "execution_count": 218,
   "metadata": {},
   "outputs": [],
   "source": [
    "import pickle"
   ]
  },
  {
   "cell_type": "code",
   "execution_count": 219,
   "metadata": {},
   "outputs": [],
   "source": [
    "pickle.dump(similar, open(\"similarity\", \"wb\"))"
   ]
  },
  {
   "cell_type": "code",
   "execution_count": 220,
   "metadata": {},
   "outputs": [
    {
     "ename": "",
     "evalue": "",
     "output_type": "error",
     "traceback": [
      "\u001b[1;31mThe Kernel crashed while executing code in the the current cell or a previous cell. Please review the code in the cell(s) to identify a possible cause of the failure. Click <a href='https://aka.ms/vscodeJupyterKernelCrash'>here</a> for more info. View Jupyter <a href='command:jupyter.viewOutput'>log</a> for further details."
     ]
    }
   ],
   "source": [
    "pickle.dump(df, open(\"df\", \"wb\"))"
   ]
  },
  {
   "cell_type": "code",
   "execution_count": null,
   "metadata": {},
   "outputs": [],
   "source": []
  }
 ],
 "metadata": {
  "kernelspec": {
   "display_name": "base",
   "language": "python",
   "name": "python3"
  },
  "language_info": {
   "codemirror_mode": {
    "name": "ipython",
    "version": 3
   },
   "file_extension": ".py",
   "mimetype": "text/x-python",
   "name": "python",
   "nbconvert_exporter": "python",
   "pygments_lexer": "ipython3",
   "version": "3.11.5"
  }
 },
 "nbformat": 4,
 "nbformat_minor": 2
}
